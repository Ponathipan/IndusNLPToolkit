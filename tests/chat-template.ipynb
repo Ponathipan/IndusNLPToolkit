{
 "cells": [
  {
   "cell_type": "code",
   "id": "initial_id",
   "metadata": {
    "collapsed": true,
    "ExecuteTime": {
     "end_time": "2024-08-12T06:36:34.030531Z",
     "start_time": "2024-08-12T06:36:31.252427Z"
    }
   },
   "source": [
    "from datasets import load_dataset\n",
    "from transformers import AutoTokenizer"
   ],
   "outputs": [
    {
     "name": "stderr",
     "output_type": "stream",
     "text": [
      "None of PyTorch, TensorFlow >= 2.0, or Flax have been found. Models won't be available and only tokenizers, configuration and file/data utilities can be used.\n"
     ]
    }
   ],
   "execution_count": 1
  },
  {
   "metadata": {
    "ExecuteTime": {
     "end_time": "2024-08-12T06:51:49.617619Z",
     "start_time": "2024-08-12T06:51:48.820444Z"
    }
   },
   "cell_type": "code",
   "source": [
    "datasets = load_dataset(\"csv\",data_files=\"/mnt/d/indus-finetuned-datasets/Final-indus3-cleaned-v1/*.csv\")\n",
    "print(datasets)\n"
   ],
   "id": "694c0fabfc43d021",
   "outputs": [
    {
     "data": {
      "text/plain": [
       "Resolving data files:   0%|          | 0/25 [00:00<?, ?it/s]"
      ],
      "application/vnd.jupyter.widget-view+json": {
       "version_major": 2,
       "version_minor": 0,
       "model_id": "81ebbb6e8303421997d1367cf4476f56"
      }
     },
     "metadata": {},
     "output_type": "display_data"
    },
    {
     "name": "stdout",
     "output_type": "stream",
     "text": [
      "DatasetDict({\n",
      "    train: Dataset({\n",
      "        features: ['question', 'answer'],\n",
      "        num_rows: 1637423\n",
      "    })\n",
      "})\n"
     ]
    }
   ],
   "execution_count": 19
  },
  {
   "metadata": {},
   "cell_type": "code",
   "outputs": [],
   "execution_count": null,
   "source": "",
   "id": "384fb36295759c47"
  },
  {
   "metadata": {
    "ExecuteTime": {
     "end_time": "2024-08-12T06:52:00.132976Z",
     "start_time": "2024-08-12T06:51:59.711751Z"
    }
   },
   "cell_type": "code",
   "source": "tokenizer = AutoTokenizer.from_pretrained(\"nickmalhotra/ProjectIndus\")",
   "id": "cd1c08008c1956fa",
   "outputs": [],
   "execution_count": 20
  },
  {
   "metadata": {},
   "cell_type": "code",
   "outputs": [],
   "execution_count": null,
   "source": "",
   "id": "b6e19fa454d4903"
  },
  {
   "metadata": {
    "ExecuteTime": {
     "end_time": "2024-08-12T06:52:06.641431Z",
     "start_time": "2024-08-12T06:52:06.634522Z"
    }
   },
   "cell_type": "code",
   "source": [
    "def format_template(row):\n",
    "    messages = [\n",
    "        {\"role\": \"user\", \"content\": row['question']},\n",
    "        {\"role\": \"assistant\", \"content\": row['answer']}\n",
    "    ]\n",
    "    response = tokenizer.apply_chat_template(messages, tokenize=False, add_generation_prompt=False)\n",
    "    return {\"text\":response}"
   ],
   "id": "e566e4cb60d25b0b",
   "outputs": [],
   "execution_count": 21
  },
  {
   "metadata": {
    "ExecuteTime": {
     "end_time": "2024-08-12T06:57:44.313790Z",
     "start_time": "2024-08-12T06:52:16.980233Z"
    }
   },
   "cell_type": "code",
   "source": [
    "# Apply the function to each row in the Dataset\n",
    "datasets = datasets.map(format_template)"
   ],
   "id": "12a0310fda30a33",
   "outputs": [
    {
     "data": {
      "text/plain": [
       "Map:   0%|          | 0/1637423 [00:00<?, ? examples/s]"
      ],
      "application/vnd.jupyter.widget-view+json": {
       "version_major": 2,
       "version_minor": 0,
       "model_id": "7ee5f070914346569f539560939bf2d2"
      }
     },
     "metadata": {},
     "output_type": "display_data"
    }
   ],
   "execution_count": 22
  },
  {
   "metadata": {
    "ExecuteTime": {
     "end_time": "2024-08-12T07:05:41.533356Z",
     "start_time": "2024-08-12T07:05:41.527237Z"
    }
   },
   "cell_type": "code",
   "source": [
    "# Display the formatted message for the 100th element (index 99)\n",
    "print(datasets)\n",
    "\n"
   ],
   "id": "b6acec6c500b2efc",
   "outputs": [
    {
     "name": "stdout",
     "output_type": "stream",
     "text": [
      "DatasetDict({\n",
      "    train: Dataset({\n",
      "        features: ['question', 'answer', 'text'],\n",
      "        num_rows: 1637423\n",
      "    })\n",
      "})\n"
     ]
    }
   ],
   "execution_count": 23
  },
  {
   "metadata": {
    "ExecuteTime": {
     "end_time": "2024-08-12T07:15:28.810161Z",
     "start_time": "2024-08-12T07:15:28.805226Z"
    }
   },
   "cell_type": "code",
   "source": "print(datasets['train'][99])",
   "id": "c0959731e842b91",
   "outputs": [
    {
     "name": "stdout",
     "output_type": "stream",
     "text": [
      "{'question': 'मेरे लिए बेहतर सोने के लिए एक योजना बनाएं\\nअभी मैं केवल कुछ घंटों के बाद उठता हूं', 'answer': 'मुझे यह सुनकर खेद है कि आप कर रहे हैं', 'text': '<s>उपयोगकर्ता\\nमेरे लिए बेहतर सोने के लिए एक योजना बनाएं\\nअभी मैं केवल कुछ घंटों के बाद उठता हूं</s>\\n<s>सहायक\\nमुझे यह सुनकर खेद है कि आप कर रहे हैं</s>\\n'}\n"
     ]
    }
   ],
   "execution_count": 28
  },
  {
   "metadata": {
    "ExecuteTime": {
     "end_time": "2024-08-12T07:43:17.081544Z",
     "start_time": "2024-08-12T07:43:17.076980Z"
    }
   },
   "cell_type": "code",
   "source": "print(datasets['train'][100])",
   "id": "8ff2c6a9ffa54f4b",
   "outputs": [
    {
     "name": "stdout",
     "output_type": "stream",
     "text": [
      "{'text': '<s>उपयोगकर्ता\\nमेरे लिए बेहतर सोने के लिए एक योजना बनाएं।अभी मैं केवल कुछ घंटों के बाद उठता हूं।मैं मेलाटोनिन का उपयोग करता हूं लेकिन रुकना चाहूंगा।</s>\\n<s>सहायक\\nमैं समझता हूं कि आप अपनी नींद से जूझ रहे हैं और अधिक टिकाऊ समाधान खोजना चाहते हैं।यहां मेलाटोनिन पर भरोसा किए बिना बेहतर नींद में मदद करने के लिए एक व्यापक योजना है:\\n१. एक सुसंगत नींद अनुसूची स्थापित करें:\\nसप्ताहांत सहित हर दिन एक ही समय में बिस्तर पर जाने और जागने की कोशिश करें।यह आपके शरीर की आंतरिक घड़ी को विनियमित करने और आपकी नींद की गुणवत्ता में सुधार करने में मदद करेगा।\\n२. एक सोने की दिनचर्या बनाएं:\\nएक शांत पूर्व-नींद की दिनचर्या विकसित करें जो आपके शरीर को संकेत देता है कि यह नीचे हवा का समय है।इसमें किताब पढ़ने, गर्म स्नान करने, ध्यान करने या कोमल स्ट्रेच का अभ्यास करने जैसी गतिविधियाँ शामिल हो सकती हैं।\\n३. अपने नींद के माहौल का अनुकूलन करें:\\nयह सुनिश्चित करके अपने बेडरूम को एक नींद अभयारण्य बनाएं कि यह अंधेरा, शांत और शांत है।यदि आवश्यक हो तो ब्लैकआउट पर्दे, इयरप्लग, या एक सफेद शोर मशीन का उपयोग करने पर विचार करें।रात की नींद का समर्थन करने के लिए एक आरामदायक गद्दे और तकिए में निवेश करें।\\n४. बिस्तर से पहले स्क्रीन के संपर्क को सीमित करें:\\nस्मार्टफोन, टैबलेट और कंप्यूटर द्वारा उत्सर्जित नीली रोशनी आपकी नींद में हस्तक्षेप कर सकती है।सोने से पहले कम से कम एक घंटे के लिए स्क्रीन से बचने की कोशिश करें या ब्लू लाइट फ़िल्टरिंग ग्लास या ऐप्स का उपयोग करें।\\n५. अपने आहार देखें:\\nसोते समय भारी भोजन, कैफीन और अल्कोहल का सेवन करने से बचें।ये आपके नींद के पैटर्न को बाधित कर सकते हैं और सोते हुए या रात भर सोते रहना मुश्किल बना सकते हैं।\\n६. नियमित व्यायाम प्राप्त करें:\\nअपनी दिनचर्या में शारीरिक गतिविधि को शामिल करें, लेकिन सोने के कुछ घंटों के भीतर जोरदार व्यायाम से बचें।व्यायाम आपके नींद के पैटर्न को विनियमित करने और आपकी नींद की गुणवत्ता में सुधार करने में मदद कर सकता है।\\n७. तनाव का प्रबंधन करें:\\nतनाव को कम करने वाली गतिविधियों में संलग्न, जैसे कि योग, ध्यान, या गहरी साँस लेने के व्यायाम, अपने दिमाग को साफ करने और बिस्तर से पहले अपने शरीर को आराम करने में मदद करने के लिए।\\n८. लिमिट नैप्स:\\nयदि आप झपकी लेने की आदत में हैं, तो उन्हें २०-३० मिनट तक सीमित करने का प्रयास करें और सोते समय नैपिंग से बचें।लंबी या देर से झपकी रात में अच्छी तरह से सोने की आपकी क्षमता में हस्तक्षेप कर सकती है।\\n९. कुछ सुबह की धूप प्राप्त करें:\\nसुबह में प्राकृतिक धूप के संपर्क में आने से आपके सर्कैडियन लय को विनियमित करने में मदद मिलती है, जो आपकी नींद की गुणवत्ता में सुधार कर सकता है।सुबह के बाहर कुछ समय बिताएं, या सूरज की रोशनी को अंदर जाने के लिए अपने पर्दे खोलें।\\n१०. पेशेवर मदद पर विचार करें:\\nयदि आपने इन सुझावों की कोशिश की है और अभी भी अपने आप को नींद से जूझ रहे हैं, तो एक हेल्थकेयर पेशेवर या एक नींद विशेषज्ञ से परामर्श करें।वे कर सकते हैं</s>\\n'}\n"
     ]
    }
   ],
   "execution_count": 33
  },
  {
   "metadata": {
    "ExecuteTime": {
     "end_time": "2024-08-12T07:23:06.878974Z",
     "start_time": "2024-08-12T07:23:06.861636Z"
    }
   },
   "cell_type": "code",
   "source": "datasets= datasets.remove_columns([\"question\",\"answer\"])",
   "id": "62756f0dee9c3d03",
   "outputs": [],
   "execution_count": 29
  },
  {
   "metadata": {
    "ExecuteTime": {
     "end_time": "2024-08-12T07:23:13.494926Z",
     "start_time": "2024-08-12T07:23:13.490423Z"
    }
   },
   "cell_type": "code",
   "source": "print(datasets)",
   "id": "3a370245c1ac8ed8",
   "outputs": [
    {
     "name": "stdout",
     "output_type": "stream",
     "text": [
      "DatasetDict({\n",
      "    train: Dataset({\n",
      "        features: ['text'],\n",
      "        num_rows: 1637423\n",
      "    })\n",
      "})\n"
     ]
    }
   ],
   "execution_count": 30
  },
  {
   "metadata": {
    "ExecuteTime": {
     "end_time": "2024-08-12T07:25:22.514080Z",
     "start_time": "2024-08-12T07:25:19.040674Z"
    }
   },
   "cell_type": "code",
   "source": "datasets['train'].to_parquet('/mnt/d/indus-finetuned-datasets/combine-datasets/combined_cleaned_chat_template.parquet')",
   "id": "94a0a32ecffed347",
   "outputs": [
    {
     "data": {
      "text/plain": [
       "Creating parquet from Arrow format:   0%|          | 0/1638 [00:00<?, ?ba/s]"
      ],
      "application/vnd.jupyter.widget-view+json": {
       "version_major": 2,
       "version_minor": 0,
       "model_id": "7ee33bd43f9047158f772b5dbad1074e"
      }
     },
     "metadata": {},
     "output_type": "display_data"
    },
    {
     "data": {
      "text/plain": [
       "1177778648"
      ]
     },
     "execution_count": 32,
     "metadata": {},
     "output_type": "execute_result"
    }
   ],
   "execution_count": 32
  },
  {
   "metadata": {},
   "cell_type": "code",
   "outputs": [],
   "execution_count": null,
   "source": "",
   "id": "8072d367bf9b7215"
  }
 ],
 "metadata": {
  "kernelspec": {
   "display_name": "Python 3",
   "language": "python",
   "name": "python3"
  },
  "language_info": {
   "codemirror_mode": {
    "name": "ipython",
    "version": 2
   },
   "file_extension": ".py",
   "mimetype": "text/x-python",
   "name": "python",
   "nbconvert_exporter": "python",
   "pygments_lexer": "ipython2",
   "version": "2.7.6"
  }
 },
 "nbformat": 4,
 "nbformat_minor": 5
}
